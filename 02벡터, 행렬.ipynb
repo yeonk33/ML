{
 "cells": [
  {
   "cell_type": "code",
   "execution_count": 1,
   "metadata": {},
   "outputs": [],
   "source": [
    "import numpy as np"
   ]
  },
  {
   "cell_type": "markdown",
   "metadata": {},
   "source": [
    "# 2. 벡터, 행렬 연산, 그래프 그리기\n",
    "\n",
    "## 프린트"
   ]
  },
  {
   "cell_type": "code",
   "execution_count": 2,
   "metadata": {},
   "outputs": [],
   "source": [
    "def print_val(x):\n",
    "    print \"Type:\", type(x)\n",
    "    print \"Shape:\", x.shape\n",
    "    print \"값:\\n\", x\n",
    "    print \" \""
   ]
  },
  {
   "cell_type": "markdown",
   "metadata": {},
   "source": [
    "## rank 1 np array"
   ]
  },
  {
   "cell_type": "code",
   "execution_count": 8,
   "metadata": {},
   "outputs": [
    {
     "name": "stdout",
     "output_type": "stream",
     "text": [
      "Type: <type 'numpy.ndarray'>\n",
      "Shape: (3,)\n",
      "값:\n",
      "[1 2 3]\n",
      " \n",
      "Type: <type 'numpy.ndarray'>\n",
      "Shape: (3,)\n",
      "값:\n",
      "[5 2 3]\n",
      " \n"
     ]
    }
   ],
   "source": [
    "x = np.array([1, 2, 3])\n",
    "print_val(x)\n",
    "\n",
    "x[0] = 5\n",
    "print_val(x)"
   ]
  },
  {
   "cell_type": "markdown",
   "metadata": {},
   "source": [
    "## rank 2 np array"
   ]
  },
  {
   "cell_type": "code",
   "execution_count": 9,
   "metadata": {},
   "outputs": [
    {
     "name": "stdout",
     "output_type": "stream",
     "text": [
      "Type: <type 'numpy.ndarray'>\n",
      "Shape: (2, 3)\n",
      "값:\n",
      "[[1 2 3]\n",
      " [4 5 6]]\n",
      " \n"
     ]
    }
   ],
   "source": [
    "y = np.array([[1, 2, 3], [4, 5, 6]])\n",
    "print_val(y)"
   ]
  },
  {
   "cell_type": "markdown",
   "metadata": {},
   "source": [
    "## rank 2 ones"
   ]
  },
  {
   "cell_type": "code",
   "execution_count": 10,
   "metadata": {},
   "outputs": [
    {
     "name": "stdout",
     "output_type": "stream",
     "text": [
      "Type: <type 'numpy.ndarray'>\n",
      "Shape: (3, 2)\n",
      "값:\n",
      "[[1. 1.]\n",
      " [1. 1.]\n",
      " [1. 1.]]\n",
      " \n"
     ]
    }
   ],
   "source": [
    "a = np.ones((3,2))\n",
    "print_val(a)"
   ]
  },
  {
   "cell_type": "markdown",
   "metadata": {},
   "source": [
    "## rank 2 zeros"
   ]
  },
  {
   "cell_type": "code",
   "execution_count": 11,
   "metadata": {},
   "outputs": [
    {
     "name": "stdout",
     "output_type": "stream",
     "text": [
      "Type: <type 'numpy.ndarray'>\n",
      "Shape: (2, 2)\n",
      "값:\n",
      "[[0. 0.]\n",
      " [0. 0.]]\n",
      " \n"
     ]
    }
   ],
   "source": [
    "a = np.zeros((2,2))\n",
    "print_val(a)"
   ]
  },
  {
   "cell_type": "markdown",
   "metadata": {},
   "source": [
    "## rank 2 단위 행렬"
   ]
  },
  {
   "cell_type": "code",
   "execution_count": 12,
   "metadata": {},
   "outputs": [
    {
     "name": "stdout",
     "output_type": "stream",
     "text": [
      "Type: <type 'numpy.ndarray'>\n",
      "Shape: (3, 3)\n",
      "값:\n",
      "[[1. 0. 0.]\n",
      " [0. 1. 0.]\n",
      " [0. 0. 1.]]\n",
      " \n"
     ]
    }
   ],
   "source": [
    "a = np.eye(3,3)\n",
    "print_val(a)"
   ]
  },
  {
   "cell_type": "markdown",
   "metadata": {},
   "source": [
    "## 랜덤행렬(uniform: 0~1 사이 모든 값들이 나올 확률이 같음)"
   ]
  },
  {
   "cell_type": "code",
   "execution_count": 13,
   "metadata": {},
   "outputs": [
    {
     "name": "stdout",
     "output_type": "stream",
     "text": [
      "Type: <type 'numpy.ndarray'>\n",
      "Shape: (4, 4)\n",
      "값:\n",
      "[[0.22097355 0.65332558 0.67017076 0.33303666]\n",
      " [0.09019201 0.84571101 0.70153046 0.68768793]\n",
      " [0.83146832 0.01944894 0.61469008 0.66435304]\n",
      " [0.82958088 0.58171134 0.13504276 0.54652188]]\n",
      " \n"
     ]
    }
   ],
   "source": [
    "a = np.random.random((4,4))\n",
    "print_val(a)"
   ]
  },
  {
   "cell_type": "markdown",
   "metadata": {},
   "source": [
    "## 랜덤행렬(Gaussian: 0을 평균으로 하는 가우시안 분포를 따르는 랜덤값)"
   ]
  },
  {
   "cell_type": "code",
   "execution_count": 15,
   "metadata": {},
   "outputs": [
    {
     "name": "stdout",
     "output_type": "stream",
     "text": [
      "Type: <type 'numpy.ndarray'>\n",
      "Shape: (4, 4)\n",
      "값:\n",
      "[[-0.44780024 -0.18413884  0.72744285  0.370677  ]\n",
      " [-1.20062744 -0.23410704  1.05815879  0.52572128]\n",
      " [-1.78228799  0.82715603 -0.77704848  1.589639  ]\n",
      " [ 1.59760513  0.0235941   0.53580157 -1.76675998]]\n",
      " \n"
     ]
    }
   ],
   "source": [
    "a = np.random.randn(4,4)\n",
    "print_val(a)"
   ]
  },
  {
   "cell_type": "markdown",
   "metadata": {},
   "source": [
    "## np array indexing"
   ]
  },
  {
   "cell_type": "code",
   "execution_count": 16,
   "metadata": {},
   "outputs": [
    {
     "name": "stdout",
     "output_type": "stream",
     "text": [
      "Type: <type 'numpy.ndarray'>\n",
      "Shape: (3, 4)\n",
      "값:\n",
      "[[ 1  2  3  4]\n",
      " [ 5  6  7  8]\n",
      " [ 9 10 11 12]]\n",
      " \n"
     ]
    }
   ],
   "source": [
    "a = np.array([[1,2,3,4], [5,6,7,8], [9,10,11,12]])\n",
    "print_val(a)"
   ]
  },
  {
   "cell_type": "code",
   "execution_count": 17,
   "metadata": {},
   "outputs": [
    {
     "name": "stdout",
     "output_type": "stream",
     "text": [
      "Type: <type 'numpy.ndarray'>\n",
      "Shape: (2, 2)\n",
      "값:\n",
      "[[2 3]\n",
      " [6 7]]\n",
      " \n"
     ]
    }
   ],
   "source": [
    "b = a[:2, 1:3]\n",
    "print_val(b)"
   ]
  },
  {
   "cell_type": "markdown",
   "metadata": {},
   "source": [
    "## 행렬의 n번째 행 얻기"
   ]
  },
  {
   "cell_type": "code",
   "execution_count": 18,
   "metadata": {},
   "outputs": [
    {
     "name": "stdout",
     "output_type": "stream",
     "text": [
      "Type: <type 'numpy.ndarray'>\n",
      "Shape: (4,)\n",
      "값:\n",
      "[5 6 7 8]\n",
      " \n"
     ]
    }
   ],
   "source": [
    "row1 = a[1, :]\n",
    "print_val(row1)"
   ]
  },
  {
   "cell_type": "markdown",
   "metadata": {},
   "source": [
    "## 행렬의 원소별 연산"
   ]
  },
  {
   "cell_type": "code",
   "execution_count": 19,
   "metadata": {},
   "outputs": [],
   "source": [
    "m1 = np.array([[1,2], [3,4]], dtype=np.float64)\n",
    "m2 = np.array([[5,6], [7,8]], dtype=np.float64)"
   ]
  },
  {
   "cell_type": "code",
   "execution_count": 20,
   "metadata": {},
   "outputs": [
    {
     "name": "stdout",
     "output_type": "stream",
     "text": [
      "Type: <type 'numpy.ndarray'>\n",
      "Shape: (2, 2)\n",
      "값:\n",
      "[[ 6.  8.]\n",
      " [10. 12.]]\n",
      " \n",
      "Type: <type 'numpy.ndarray'>\n",
      "Shape: (2, 2)\n",
      "값:\n",
      "[[ 6.  8.]\n",
      " [10. 12.]]\n",
      " \n"
     ]
    }
   ],
   "source": [
    "#elementwise sum\n",
    "print_val(m1 + m2)\n",
    "print_val(np.add(m1, m2))"
   ]
  },
  {
   "cell_type": "code",
   "execution_count": 21,
   "metadata": {},
   "outputs": [
    {
     "name": "stdout",
     "output_type": "stream",
     "text": [
      "Type: <type 'numpy.ndarray'>\n",
      "Shape: (2, 2)\n",
      "값:\n",
      "[[-4. -4.]\n",
      " [-4. -4.]]\n",
      " \n",
      "Type: <type 'numpy.ndarray'>\n",
      "Shape: (2, 2)\n",
      "값:\n",
      "[[-4. -4.]\n",
      " [-4. -4.]]\n",
      " \n"
     ]
    }
   ],
   "source": [
    "#elementwise difference\n",
    "print_val(m1 - m2)\n",
    "print_val(np.subtract(m1, m2))"
   ]
  },
  {
   "cell_type": "code",
   "execution_count": 22,
   "metadata": {},
   "outputs": [
    {
     "name": "stdout",
     "output_type": "stream",
     "text": [
      "Type: <type 'numpy.ndarray'>\n",
      "Shape: (2, 2)\n",
      "값:\n",
      "[[ 5. 12.]\n",
      " [21. 32.]]\n",
      " \n",
      "Type: <type 'numpy.ndarray'>\n",
      "Shape: (2, 2)\n",
      "값:\n",
      "[[ 5. 12.]\n",
      " [21. 32.]]\n",
      " \n"
     ]
    }
   ],
   "source": [
    "#elementwise product\n",
    "print_val(m1 * m2)\n",
    "print_val(np.multiply(m1, m2))"
   ]
  },
  {
   "cell_type": "code",
   "execution_count": 23,
   "metadata": {},
   "outputs": [
    {
     "name": "stdout",
     "output_type": "stream",
     "text": [
      "Type: <type 'numpy.ndarray'>\n",
      "Shape: (2, 2)\n",
      "값:\n",
      "[[0.2        0.33333333]\n",
      " [0.42857143 0.5       ]]\n",
      " \n",
      "Type: <type 'numpy.ndarray'>\n",
      "Shape: (2, 2)\n",
      "값:\n",
      "[[0.2        0.33333333]\n",
      " [0.42857143 0.5       ]]\n",
      " \n"
     ]
    }
   ],
   "source": [
    "#elementwise division\n",
    "print_val(m1 / m2)\n",
    "print_val(np.divide(m1, m2))"
   ]
  },
  {
   "cell_type": "code",
   "execution_count": 24,
   "metadata": {},
   "outputs": [
    {
     "name": "stdout",
     "output_type": "stream",
     "text": [
      "Type: <type 'numpy.ndarray'>\n",
      "Shape: (2, 2)\n",
      "값:\n",
      "[[1.         1.41421356]\n",
      " [1.73205081 2.        ]]\n",
      " \n"
     ]
    }
   ],
   "source": [
    "#elementwise square root\n",
    "print_val(np.sqrt(m1))"
   ]
  },
  {
   "cell_type": "markdown",
   "metadata": {},
   "source": [
    "## 행렬연산"
   ]
  },
  {
   "cell_type": "code",
   "execution_count": 26,
   "metadata": {},
   "outputs": [
    {
     "name": "stdout",
     "output_type": "stream",
     "text": [
      "Type: <type 'numpy.ndarray'>\n",
      "Shape: (2, 2)\n",
      "값:\n",
      "[[1 2]\n",
      " [3 4]]\n",
      " \n",
      "Type: <type 'numpy.ndarray'>\n",
      "Shape: (2, 2)\n",
      "값:\n",
      "[[5 6]\n",
      " [7 8]]\n",
      " \n",
      "Type: <type 'numpy.ndarray'>\n",
      "Shape: (2,)\n",
      "값:\n",
      "[ 9 10]\n",
      " \n",
      "Type: <type 'numpy.ndarray'>\n",
      "Shape: (2,)\n",
      "값:\n",
      "[11 12]\n",
      " \n"
     ]
    }
   ],
   "source": [
    "m1 = np.array([[1,2], [3,4]])\n",
    "m2 = np.array([[5,6], [7,8]])\n",
    "v1 = np.array([9,10]) #(2,1)     [[9,10]] (1,2)\n",
    "v2 = np.array([11,12]) #(2,1)\n",
    "\n",
    "print_val(m1)\n",
    "print_val(m2)\n",
    "print_val(v1)\n",
    "print_val(v2)"
   ]
  },
  {
   "cell_type": "markdown",
   "metadata": {},
   "source": [
    "## 벡터-벡터 연산"
   ]
  },
  {
   "cell_type": "code",
   "execution_count": 27,
   "metadata": {},
   "outputs": [
    {
     "name": "stdout",
     "output_type": "stream",
     "text": [
      "Type: <type 'numpy.int64'>\n",
      "Shape: ()\n",
      "값:\n",
      "219\n",
      " \n",
      "Type: <type 'numpy.int64'>\n",
      "Shape: ()\n",
      "값:\n",
      "219\n",
      " \n"
     ]
    }
   ],
   "source": [
    "print_val(v1.dot(v2))\n",
    "print_val(np.dot(v1, v2))"
   ]
  },
  {
   "cell_type": "markdown",
   "metadata": {},
   "source": [
    "## 벡터-행렬 연산"
   ]
  },
  {
   "cell_type": "code",
   "execution_count": 29,
   "metadata": {},
   "outputs": [
    {
     "name": "stdout",
     "output_type": "stream",
     "text": [
      "Type: <type 'numpy.ndarray'>\n",
      "Shape: (2,)\n",
      "값:\n",
      "[29 67]\n",
      " \n",
      "Type: <type 'numpy.ndarray'>\n",
      "Shape: (2,)\n",
      "값:\n",
      "[29 67]\n",
      " \n"
     ]
    }
   ],
   "source": [
    "print_val(m1.dot(v1))  #(2,2) x (2,1) -> (2,1)\n",
    "print_val(np.dot(m1, v1))"
   ]
  },
  {
   "cell_type": "markdown",
   "metadata": {},
   "source": [
    "## 행렬-행렬 연산"
   ]
  },
  {
   "cell_type": "code",
   "execution_count": 30,
   "metadata": {},
   "outputs": [
    {
     "name": "stdout",
     "output_type": "stream",
     "text": [
      "Type: <type 'numpy.ndarray'>\n",
      "Shape: (2, 2)\n",
      "값:\n",
      "[[19 22]\n",
      " [43 50]]\n",
      " \n",
      "Type: <type 'numpy.ndarray'>\n",
      "Shape: (2, 2)\n",
      "값:\n",
      "[[19 22]\n",
      " [43 50]]\n",
      " \n"
     ]
    }
   ],
   "source": [
    "print_val(m1.dot(m2))\n",
    "print_val(np.dot(m1, m2))"
   ]
  },
  {
   "cell_type": "markdown",
   "metadata": {},
   "source": [
    "## 전치 행렬"
   ]
  },
  {
   "cell_type": "code",
   "execution_count": 31,
   "metadata": {},
   "outputs": [
    {
     "name": "stdout",
     "output_type": "stream",
     "text": [
      "Type: <type 'numpy.ndarray'>\n",
      "Shape: (2, 2)\n",
      "값:\n",
      "[[1 2]\n",
      " [3 4]]\n",
      " \n",
      "Type: <type 'numpy.ndarray'>\n",
      "Shape: (2, 2)\n",
      "값:\n",
      "[[1 3]\n",
      " [2 4]]\n",
      " \n"
     ]
    }
   ],
   "source": [
    "print_val(m1)\n",
    "print_val(m1.T)"
   ]
  },
  {
   "cell_type": "markdown",
   "metadata": {},
   "source": [
    "## 합"
   ]
  },
  {
   "cell_type": "code",
   "execution_count": 32,
   "metadata": {},
   "outputs": [
    {
     "name": "stdout",
     "output_type": "stream",
     "text": [
      "Type: <type 'numpy.int64'>\n",
      "Shape: ()\n",
      "값:\n",
      "10\n",
      " \n",
      "Type: <type 'numpy.ndarray'>\n",
      "Shape: (2,)\n",
      "값:\n",
      "[4 6]\n",
      " \n",
      "Type: <type 'numpy.ndarray'>\n",
      "Shape: (2,)\n",
      "값:\n",
      "[3 7]\n",
      " \n"
     ]
    }
   ],
   "source": [
    "print_val(np.sum(m1))  #행렬의 모든 원소의 합\n",
    "print_val(np.sum(m1, axis=0))  #행을 압축\n",
    "print_val(np.sum(m1, axis=1))  #열을 압축"
   ]
  },
  {
   "cell_type": "code",
   "execution_count": 33,
   "metadata": {},
   "outputs": [
    {
     "name": "stdout",
     "output_type": "stream",
     "text": [
      "[[1 2 3]\n",
      " [4 5 6]]\n",
      "(2, 3)\n"
     ]
    }
   ],
   "source": [
    "m1 = np.array([[1,2,3], [4,5,6]])\n",
    "print m1\n",
    "print m1.shape"
   ]
  },
  {
   "cell_type": "code",
   "execution_count": 34,
   "metadata": {},
   "outputs": [
    {
     "name": "stdout",
     "output_type": "stream",
     "text": [
      "21\n",
      "[5 7 9]\n",
      "[ 6 15]\n"
     ]
    }
   ],
   "source": [
    "print np.sum(m1)\n",
    "print np.sum(m1, axis=0)\n",
    "print np.sum(m1, axis=1)"
   ]
  },
  {
   "cell_type": "markdown",
   "metadata": {},
   "source": [
    "## zeros-like"
   ]
  },
  {
   "cell_type": "code",
   "execution_count": 35,
   "metadata": {},
   "outputs": [
    {
     "name": "stdout",
     "output_type": "stream",
     "text": [
      "Type: <type 'numpy.ndarray'>\n",
      "Shape: (4, 3)\n",
      "값:\n",
      "[[ 1  2  3]\n",
      " [ 4  5  6]\n",
      " [ 7  8  9]\n",
      " [10 11 12]]\n",
      " \n",
      "Type: <type 'numpy.ndarray'>\n",
      "Shape: (4, 3)\n",
      "값:\n",
      "[[0 0 0]\n",
      " [0 0 0]\n",
      " [0 0 0]\n",
      " [0 0 0]]\n",
      " \n"
     ]
    }
   ],
   "source": [
    "m1 = np.array([[1,2,3],\n",
    "              [4,5,6],\n",
    "              [7,8,9],\n",
    "              [10,11,12]])\n",
    "m2 = np.zeros_like(m1)\n",
    "print_val(m1)\n",
    "print_val(m2)"
   ]
  },
  {
   "cell_type": "markdown",
   "metadata": {},
   "source": [
    "## Matplot library"
   ]
  },
  {
   "cell_type": "code",
   "execution_count": 36,
   "metadata": {},
   "outputs": [],
   "source": [
    "import matplotlib.pyplot as plt\n",
    "%matplotlib inline"
   ]
  },
  {
   "cell_type": "code",
   "execution_count": 39,
   "metadata": {},
   "outputs": [
    {
     "data": {
      "text/plain": [
       "[<matplotlib.lines.Line2D at 0x7fc97fea4d90>]"
      ]
     },
     "execution_count": 39,
     "metadata": {},
     "output_type": "execute_result"
    },
    {
     "data": {
      "image/png": "[encoded data removed]",
      "text/plain": [
       "<Figure size 432x288 with 1 Axes>"
      ]
     },
     "metadata": {},
     "output_type": "display_data"
    }
   ],
   "source": [
    "#sin 커브\n",
    "x = np.arange(0, 10, 0.1)  # 0~10까지 0.1간격의 숫자 배열\n",
    "y = np.sin(x)\n",
    "\n",
    "plt.plot(x, y)"
   ]
  },
  {
   "cell_type": "markdown",
   "metadata": {},
   "source": [
    "### 한 번에 두 개 그래프 그리기"
   ]
  },
  {
   "cell_type": "code",
   "execution_count": 40,
   "metadata": {},
   "outputs": [
    {
     "data": {
      "image/png": "[encoded data removed]",
      "text/plain": [
       "<Figure size 432x288 with 1 Axes>"
      ]
     },
     "metadata": {},
     "output_type": "display_data"
    }
   ],
   "source": [
    "y_sin = np.sin(x)\n",
    "y_cos = np.cos(x)\n",
    "\n",
    "plt.plot(x, y_sin)\n",
    "plt.plot(x, y_cos)\n",
    "plt.xlabel('x axis label')\n",
    "plt.ylabel('y axis label')\n",
    "plt.title('sin and cos')\n",
    "plt.legend(['sin', 'cos'])\n",
    "\n",
    "plt.show()"
   ]
  },
  {
   "cell_type": "markdown",
   "metadata": {},
   "source": [
    "### subplot"
   ]
  },
  {
   "cell_type": "code",
   "execution_count": 41,
   "metadata": {},
   "outputs": [
    {
     "data": {
      "image/png": "[encoded data removed]",
      "text/plain": [
       "<Figure size 432x288 with 2 Axes>"
      ]
     },
     "metadata": {},
     "output_type": "display_data"
    }
   ],
   "source": [
    "plt.subplot(2, 1, 1)\n",
    "plt.plot(x, y_sin)\n",
    "plt.title('sin')\n",
    "\n",
    "plt.subplot(2, 1, 2)\n",
    "plt.plot(x, y_cos)\n",
    "plt.title('cos')\n",
    "\n",
    "plt.show()"
   ]
  },
  {
   "cell_type": "code",
   "execution_count": null,
   "metadata": {},
   "outputs": [],
   "source": []
  }
 ],
 "metadata": {
  "kernelspec": {
   "display_name": "conda_pytorch_p27",
   "language": "python",
   "name": "conda_pytorch_p27"
  },
  "language_info": {
   "codemirror_mode": {
    "name": "ipython",
    "version": 2
   },
   "file_extension": ".py",
   "mimetype": "text/x-python",
   "name": "python",
   "nbconvert_exporter": "python",
   "pygments_lexer": "ipython2",
   "version": "2.7.15"
  }
 },
 "nbformat": 4,
 "nbformat_minor": 4
}
